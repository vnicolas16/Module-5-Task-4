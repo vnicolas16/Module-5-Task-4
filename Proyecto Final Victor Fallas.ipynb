{
 "cells": [
  {
   "cell_type": "markdown",
   "metadata": {},
   "source": [
    "Capstone Project - Victor Fallas UCI_Credit_Card"
   ]
  },
  {
   "cell_type": "markdown",
   "metadata": {},
   "source": [
    "Data Set Info:"
   ]
  },
  {
   "cell_type": "markdown",
   "metadata": {},
   "source": [
    "Data set collected from site: https://www.kaggle.com/uciml/default-of-credit-card-clients-dataset/home\n",
    "\n",
    "* ID: ID of each client\n",
    "* LIMIT_BAL: Amount of given credit in NT dollars (includes individual and family/supplementary credit\n",
    "* SEX: Gender (1=male, 2=female)\n",
    "* EDUCATION: (1=graduate school, 2=university, 3=high school, 4=others, 5=unknown, 6=unknown)\n",
    "* MARRIAGE: Marital status (1=married, 2=single, 3=others)\n",
    "* AGE: Age in years\n",
    "* PAY_0: Repayment status in September, 2005 (-1=pay duly, 1=payment delay for one month, 2=payment delay for two months, ... 8=payment delay for eight months, 9=payment delay for nine months and above)\n",
    "* PAY_2: Repayment status in August, 2005 (scale same as above)\n",
    "* PAY_3: Repayment status in July, 2005 (scale same as above)\n",
    "* PAY_4: Repayment status in June, 2005 (scale same as above)\n",
    "* PAY_5: Repayment status in May, 2005 (scale same as above)\n",
    "* PAY_6: Repayment status in April, 2005 (scale same as above)\n",
    "* BILL_AMT1: Amount of bill statement in September, 2005 (NT dollar)\n",
    "* BILL_AMT2: Amount of bill statement in August, 2005 (NT dollar)\n",
    "* BILL_AMT3: Amount of bill statement in July, 2005 (NT dollar)\n",
    "* BILL_AMT4: Amount of bill statement in June, 2005 (NT dollar)\n",
    "* BILL_AMT5: Amount of bill statement in May, 2005 (NT dollar)\n",
    "* BILL_AMT6: Amount of bill statement in April, 2005 (NT dollar)\n",
    "* PAY_AMT1: Amount of previous payment in September, 2005 (NT dollar)\n",
    "* PAY_AMT2: Amount of previous payment in August, 2005 (NT dollar)\n",
    "* PAY_AMT3: Amount of previous payment in July, 2005 (NT dollar)\n",
    "* PAY_AMT4: Amount of previous payment in June, 2005 (NT dollar)\n",
    "* PAY_AMT5: Amount of previous payment in May, 2005 (NT dollar)\n",
    "* PAY_AMT6: Amount of previous payment in April, 2005 (NT dollar) default.payment.next.month: Default payment (1=yes, 0=no)"
   ]
  },
  {
   "cell_type": "markdown",
   "metadata": {},
   "source": [
    "Potential problem: we want to group values 5 and 6 for education into one unica value (accordin to kaggle description) as they both mean \"unknown\" , maybe to include valu 4 into that grouping"
   ]
  },
  {
   "cell_type": "markdown",
   "metadata": {},
   "source": [
    "Data type check"
   ]
  },
  {
   "cell_type": "code",
   "execution_count": 1,
   "metadata": {},
   "outputs": [],
   "source": [
    "%matplotlib inline\n",
    "import pandas as pd\n",
    "import numpy as np\n",
    "import matplotlib.pyplot as plt\n",
    "import seaborn as sns\n",
    "from IPython.display import display\n",
    "import random\n",
    "import sklearn\n",
    "\n",
    "# Setup Seaborn\n",
    "sns.set_style(\"whitegrid\")\n",
    "sns.set_context(\"poster\")"
   ]
  },
  {
   "cell_type": "code",
   "execution_count": 2,
   "metadata": {},
   "outputs": [],
   "source": [
    "filename = 'UCI_Credit_Card.csv'"
   ]
  },
  {
   "cell_type": "code",
   "execution_count": 3,
   "metadata": {},
   "outputs": [],
   "source": [
    "data = pd.read_csv(filename) #, index_col=0)\n",
    "data = data.drop(columns='ID') # don't need ID column, because just the index + 1"
   ]
  },
  {
   "cell_type": "code",
   "execution_count": 4,
   "metadata": {},
   "outputs": [
    {
     "data": {
      "text/html": [
       "<div>\n",
       "<style scoped>\n",
       "    .dataframe tbody tr th:only-of-type {\n",
       "        vertical-align: middle;\n",
       "    }\n",
       "\n",
       "    .dataframe tbody tr th {\n",
       "        vertical-align: top;\n",
       "    }\n",
       "\n",
       "    .dataframe thead th {\n",
       "        text-align: right;\n",
       "    }\n",
       "</style>\n",
       "<table border=\"1\" class=\"dataframe\">\n",
       "  <thead>\n",
       "    <tr style=\"text-align: right;\">\n",
       "      <th></th>\n",
       "      <th>8989</th>\n",
       "      <th>26611</th>\n",
       "      <th>27754</th>\n",
       "      <th>20385</th>\n",
       "      <th>8353</th>\n",
       "    </tr>\n",
       "  </thead>\n",
       "  <tbody>\n",
       "    <tr>\n",
       "      <td>LIMIT_BAL</td>\n",
       "      <td>210000.0</td>\n",
       "      <td>50000.0</td>\n",
       "      <td>50000.0</td>\n",
       "      <td>30000.0</td>\n",
       "      <td>280000.0</td>\n",
       "    </tr>\n",
       "    <tr>\n",
       "      <td>SEX</td>\n",
       "      <td>2.0</td>\n",
       "      <td>1.0</td>\n",
       "      <td>2.0</td>\n",
       "      <td>1.0</td>\n",
       "      <td>2.0</td>\n",
       "    </tr>\n",
       "    <tr>\n",
       "      <td>EDUCATION</td>\n",
       "      <td>2.0</td>\n",
       "      <td>2.0</td>\n",
       "      <td>1.0</td>\n",
       "      <td>3.0</td>\n",
       "      <td>1.0</td>\n",
       "    </tr>\n",
       "    <tr>\n",
       "      <td>MARRIAGE</td>\n",
       "      <td>1.0</td>\n",
       "      <td>2.0</td>\n",
       "      <td>2.0</td>\n",
       "      <td>2.0</td>\n",
       "      <td>1.0</td>\n",
       "    </tr>\n",
       "    <tr>\n",
       "      <td>AGE</td>\n",
       "      <td>34.0</td>\n",
       "      <td>23.0</td>\n",
       "      <td>23.0</td>\n",
       "      <td>23.0</td>\n",
       "      <td>34.0</td>\n",
       "    </tr>\n",
       "    <tr>\n",
       "      <td>PAY_0</td>\n",
       "      <td>0.0</td>\n",
       "      <td>1.0</td>\n",
       "      <td>1.0</td>\n",
       "      <td>1.0</td>\n",
       "      <td>0.0</td>\n",
       "    </tr>\n",
       "    <tr>\n",
       "      <td>PAY_2</td>\n",
       "      <td>0.0</td>\n",
       "      <td>2.0</td>\n",
       "      <td>2.0</td>\n",
       "      <td>2.0</td>\n",
       "      <td>0.0</td>\n",
       "    </tr>\n",
       "    <tr>\n",
       "      <td>PAY_3</td>\n",
       "      <td>0.0</td>\n",
       "      <td>0.0</td>\n",
       "      <td>0.0</td>\n",
       "      <td>0.0</td>\n",
       "      <td>0.0</td>\n",
       "    </tr>\n",
       "    <tr>\n",
       "      <td>PAY_4</td>\n",
       "      <td>0.0</td>\n",
       "      <td>0.0</td>\n",
       "      <td>0.0</td>\n",
       "      <td>0.0</td>\n",
       "      <td>0.0</td>\n",
       "    </tr>\n",
       "    <tr>\n",
       "      <td>PAY_5</td>\n",
       "      <td>-1.0</td>\n",
       "      <td>-1.0</td>\n",
       "      <td>0.0</td>\n",
       "      <td>0.0</td>\n",
       "      <td>0.0</td>\n",
       "    </tr>\n",
       "    <tr>\n",
       "      <td>PAY_6</td>\n",
       "      <td>0.0</td>\n",
       "      <td>0.0</td>\n",
       "      <td>0.0</td>\n",
       "      <td>0.0</td>\n",
       "      <td>0.0</td>\n",
       "    </tr>\n",
       "    <tr>\n",
       "      <td>BILL_AMT1</td>\n",
       "      <td>149092.0</td>\n",
       "      <td>52319.0</td>\n",
       "      <td>50638.0</td>\n",
       "      <td>30391.0</td>\n",
       "      <td>232834.0</td>\n",
       "    </tr>\n",
       "    <tr>\n",
       "      <td>BILL_AMT2</td>\n",
       "      <td>153941.0</td>\n",
       "      <td>51185.0</td>\n",
       "      <td>49484.0</td>\n",
       "      <td>29144.0</td>\n",
       "      <td>218803.0</td>\n",
       "    </tr>\n",
       "    <tr>\n",
       "      <td>BILL_AMT3</td>\n",
       "      <td>157358.0</td>\n",
       "      <td>51334.0</td>\n",
       "      <td>45095.0</td>\n",
       "      <td>30419.0</td>\n",
       "      <td>202031.0</td>\n",
       "    </tr>\n",
       "    <tr>\n",
       "      <td>BILL_AMT4</td>\n",
       "      <td>3561.0</td>\n",
       "      <td>49312.0</td>\n",
       "      <td>9299.0</td>\n",
       "      <td>30097.0</td>\n",
       "      <td>111603.0</td>\n",
       "    </tr>\n",
       "    <tr>\n",
       "      <td>BILL_AMT5</td>\n",
       "      <td>34600.0</td>\n",
       "      <td>8027.0</td>\n",
       "      <td>3054.0</td>\n",
       "      <td>25887.0</td>\n",
       "      <td>94050.0</td>\n",
       "    </tr>\n",
       "    <tr>\n",
       "      <td>BILL_AMT6</td>\n",
       "      <td>32581.0</td>\n",
       "      <td>8603.0</td>\n",
       "      <td>0.0</td>\n",
       "      <td>25707.0</td>\n",
       "      <td>76232.0</td>\n",
       "    </tr>\n",
       "    <tr>\n",
       "      <td>PAY_AMT1</td>\n",
       "      <td>7000.0</td>\n",
       "      <td>0.0</td>\n",
       "      <td>0.0</td>\n",
       "      <td>0.0</td>\n",
       "      <td>9001.0</td>\n",
       "    </tr>\n",
       "    <tr>\n",
       "      <td>PAY_AMT2</td>\n",
       "      <td>7600.0</td>\n",
       "      <td>3200.0</td>\n",
       "      <td>2155.0</td>\n",
       "      <td>2033.0</td>\n",
       "      <td>6369.0</td>\n",
       "    </tr>\n",
       "    <tr>\n",
       "      <td>PAY_AMT3</td>\n",
       "      <td>1019.0</td>\n",
       "      <td>3110.0</td>\n",
       "      <td>1000.0</td>\n",
       "      <td>1420.0</td>\n",
       "      <td>3864.0</td>\n",
       "    </tr>\n",
       "    <tr>\n",
       "      <td>PAY_AMT4</td>\n",
       "      <td>36500.0</td>\n",
       "      <td>32356.0</td>\n",
       "      <td>1500.0</td>\n",
       "      <td>0.0</td>\n",
       "      <td>3501.0</td>\n",
       "    </tr>\n",
       "    <tr>\n",
       "      <td>PAY_AMT5</td>\n",
       "      <td>3000.0</td>\n",
       "      <td>700.0</td>\n",
       "      <td>0.0</td>\n",
       "      <td>92.0</td>\n",
       "      <td>3001.0</td>\n",
       "    </tr>\n",
       "    <tr>\n",
       "      <td>PAY_AMT6</td>\n",
       "      <td>3000.0</td>\n",
       "      <td>1700.0</td>\n",
       "      <td>3294.0</td>\n",
       "      <td>0.0</td>\n",
       "      <td>1701.0</td>\n",
       "    </tr>\n",
       "    <tr>\n",
       "      <td>default.payment.next.month</td>\n",
       "      <td>0.0</td>\n",
       "      <td>0.0</td>\n",
       "      <td>1.0</td>\n",
       "      <td>0.0</td>\n",
       "      <td>0.0</td>\n",
       "    </tr>\n",
       "  </tbody>\n",
       "</table>\n",
       "</div>"
      ],
      "text/plain": [
       "                               8989     26611    27754    20385     8353 \n",
       "LIMIT_BAL                   210000.0  50000.0  50000.0  30000.0  280000.0\n",
       "SEX                              2.0      1.0      2.0      1.0       2.0\n",
       "EDUCATION                        2.0      2.0      1.0      3.0       1.0\n",
       "MARRIAGE                         1.0      2.0      2.0      2.0       1.0\n",
       "AGE                             34.0     23.0     23.0     23.0      34.0\n",
       "PAY_0                            0.0      1.0      1.0      1.0       0.0\n",
       "PAY_2                            0.0      2.0      2.0      2.0       0.0\n",
       "PAY_3                            0.0      0.0      0.0      0.0       0.0\n",
       "PAY_4                            0.0      0.0      0.0      0.0       0.0\n",
       "PAY_5                           -1.0     -1.0      0.0      0.0       0.0\n",
       "PAY_6                            0.0      0.0      0.0      0.0       0.0\n",
       "BILL_AMT1                   149092.0  52319.0  50638.0  30391.0  232834.0\n",
       "BILL_AMT2                   153941.0  51185.0  49484.0  29144.0  218803.0\n",
       "BILL_AMT3                   157358.0  51334.0  45095.0  30419.0  202031.0\n",
       "BILL_AMT4                     3561.0  49312.0   9299.0  30097.0  111603.0\n",
       "BILL_AMT5                    34600.0   8027.0   3054.0  25887.0   94050.0\n",
       "BILL_AMT6                    32581.0   8603.0      0.0  25707.0   76232.0\n",
       "PAY_AMT1                      7000.0      0.0      0.0      0.0    9001.0\n",
       "PAY_AMT2                      7600.0   3200.0   2155.0   2033.0    6369.0\n",
       "PAY_AMT3                      1019.0   3110.0   1000.0   1420.0    3864.0\n",
       "PAY_AMT4                     36500.0  32356.0   1500.0      0.0    3501.0\n",
       "PAY_AMT5                      3000.0    700.0      0.0     92.0    3001.0\n",
       "PAY_AMT6                      3000.0   1700.0   3294.0      0.0    1701.0\n",
       "default.payment.next.month       0.0      0.0      1.0      0.0       0.0"
      ]
     },
     "execution_count": 4,
     "metadata": {},
     "output_type": "execute_result"
    }
   ],
   "source": [
    "pd.set_option('display.max_columns', 500)\n",
    "data.sample(5).T"
   ]
  },
  {
   "cell_type": "code",
   "execution_count": 5,
   "metadata": {},
   "outputs": [
    {
     "name": "stdout",
     "output_type": "stream",
     "text": [
      "<class 'pandas.core.frame.DataFrame'>\n",
      "RangeIndex: 30000 entries, 0 to 29999\n",
      "Data columns (total 24 columns):\n",
      "LIMIT_BAL                     30000 non-null float64\n",
      "SEX                           30000 non-null int64\n",
      "EDUCATION                     30000 non-null int64\n",
      "MARRIAGE                      30000 non-null int64\n",
      "AGE                           30000 non-null int64\n",
      "PAY_0                         30000 non-null int64\n",
      "PAY_2                         30000 non-null int64\n",
      "PAY_3                         30000 non-null int64\n",
      "PAY_4                         30000 non-null int64\n",
      "PAY_5                         30000 non-null int64\n",
      "PAY_6                         30000 non-null int64\n",
      "BILL_AMT1                     30000 non-null float64\n",
      "BILL_AMT2                     30000 non-null float64\n",
      "BILL_AMT3                     30000 non-null float64\n",
      "BILL_AMT4                     30000 non-null float64\n",
      "BILL_AMT5                     30000 non-null float64\n",
      "BILL_AMT6                     30000 non-null float64\n",
      "PAY_AMT1                      30000 non-null float64\n",
      "PAY_AMT2                      30000 non-null float64\n",
      "PAY_AMT3                      30000 non-null float64\n",
      "PAY_AMT4                      30000 non-null float64\n",
      "PAY_AMT5                      30000 non-null float64\n",
      "PAY_AMT6                      30000 non-null float64\n",
      "default.payment.next.month    30000 non-null int64\n",
      "dtypes: float64(13), int64(11)\n",
      "memory usage: 5.5 MB\n"
     ]
    }
   ],
   "source": [
    "data.info()"
   ]
  },
  {
   "cell_type": "markdown",
   "metadata": {},
   "source": [
    "Todas las columnas de este conjunto de datos tienen un tipo numérico. Son de valor flotante (continuo) o de valor int (discreto). Nada parece haber nada raro, así que podemos continuar."
   ]
  },
  {
   "cell_type": "code",
   "execution_count": 6,
   "metadata": {},
   "outputs": [
    {
     "data": {
      "text/plain": [
       "(30000, 24)"
      ]
     },
     "metadata": {},
     "output_type": "display_data"
    }
   ],
   "source": [
    "display(data.shape)"
   ]
  },
  {
   "cell_type": "code",
   "execution_count": null,
   "metadata": {},
   "outputs": [],
   "source": []
  },
  {
   "cell_type": "code",
   "execution_count": null,
   "metadata": {},
   "outputs": [],
   "source": []
  },
  {
   "cell_type": "markdown",
   "metadata": {},
   "source": [
    "Data Cleaning"
   ]
  },
  {
   "cell_type": "markdown",
   "metadata": {},
   "source": [
    "Get rid of incorrect colunm names"
   ]
  },
  {
   "cell_type": "code",
   "execution_count": null,
   "metadata": {},
   "outputs": [],
   "source": [
    "data.rename(columns={'PAY_0': 'PAY_1', 'default.payment.next.month': 'default'}, inplace=True)"
   ]
  },
  {
   "cell_type": "markdown",
   "metadata": {},
   "source": [
    "Replace negatie values with 0 in \"Pay_x\" colunm"
   ]
  },
  {
   "cell_type": "code",
   "execution_count": 12,
   "metadata": {},
   "outputs": [],
   "source": [
    "for i in range(1,7):\n",
    "    data.loc[data[\"PAY_\" + str(i)] < 0, \"PAY_\" + str(i)] = 0"
   ]
  },
  {
   "cell_type": "markdown",
   "metadata": {},
   "source": [
    "Get rid of 0 values in \"MArriage\" column "
   ]
  },
  {
   "cell_type": "code",
   "execution_count": 13,
   "metadata": {},
   "outputs": [],
   "source": [
    "data.loc[data[\"MARRIAGE\"] == 0, 'MARRIAGE'] = 3"
   ]
  },
  {
   "cell_type": "markdown",
   "metadata": {},
   "source": [
    "The \"Other\" value may mean divorced, widowed, separated, etc"
   ]
  },
  {
   "cell_type": "markdown",
   "metadata": {},
   "source": [
    "Get rid of 0 values for Education"
   ]
  },
  {
   "cell_type": "markdown",
   "metadata": {},
   "source": [
    "\n",
    "EDUCATION currently code as: (1=graduate school, 2=university, 3=high school, 4=others, 5=unknown, 6=unknown)"
   ]
  },
  {
   "cell_type": "code",
   "execution_count": 14,
   "metadata": {},
   "outputs": [],
   "source": [
    "replace = (data[\"EDUCATION\"] == 0) | (data[\"EDUCATION\"] == 5) | (data[\"EDUCATION\"] == 6) \n",
    "data.loc[replace,'EDUCATION'] = 4"
   ]
  },
  {
   "cell_type": "markdown",
   "metadata": {},
   "source": [
    "Analysis"
   ]
  },
  {
   "cell_type": "markdown",
   "metadata": {},
   "source": [
    "Models to use:\n",
    "1. Logistic Regression (LR)\n",
    "2. K-Nearest Neighbor (KNN)\n",
    "3. Support Vector Machine (SVM)\n",
    "4. Decision Trees (DT)\n",
    "5. Random Forest (RF)\n",
    "6. Naive Bayes"
   ]
  },
  {
   "cell_type": "code",
   "execution_count": 15,
   "metadata": {},
   "outputs": [],
   "source": [
    "from sklearn.pipeline import Pipeline\n",
    "from sklearn.compose import ColumnTransformer\n",
    "from sklearn.preprocessing import MinMaxScaler, OneHotEncoder, scale, StandardScaler, OrdinalEncoder, LabelEncoder, RobustScaler\n",
    "from sklearn.model_selection import train_test_split, GridSearchCV, cross_val_score, RandomizedSearchCV\n",
    "from sklearn.metrics import classification_report, confusion_matrix, roc_auc_score, roc_curve, accuracy_score, precision_score, recall_score, precision_recall_curve\n",
    "from scipy.stats import randint\n",
    "import time"
   ]
  },
  {
   "cell_type": "code",
   "execution_count": 16,
   "metadata": {},
   "outputs": [],
   "source": [
    "#### paso 1) Pre-process Data\n",
    "\n",
    "numeric_features = ['LIMIT_BAL', 'AGE',  \n",
    "                     'BILL_AMT1', 'BILL_AMT2', 'BILL_AMT3', 'BILL_AMT4', 'BILL_AMT5', 'BILL_AMT6', \n",
    "                     'PAY_AMT1', 'PAY_AMT2', 'PAY_AMT3', 'PAY_AMT4', 'PAY_AMT5', 'PAY_AMT6'\n",
    "                   ]\n",
    "\n",
    "\n",
    "\n",
    "# data['PAY_1'] = data.PAY_1.astype('float64')\n",
    "# data['PAY_2'] = data.PAY_2.astype('float64')\n",
    "# data['PAY_3'] = data.PAY_3.astype('float64')\n",
    "# data['PAY_4'] = data.PAY_4.astype('float64')\n",
    "# data['PAY_5'] = data.PAY_5.astype('float64')\n",
    "# data['PAY_6'] = data.PAY_6.astype('float64')\n",
    "data['AGE'] = data.AGE.astype('float64')\n",
    "\n",
    "numeric_transformer = Pipeline(steps=[\n",
    "    ('scaler', MinMaxScaler())\n",
    "])\n",
    "\n",
    "categorical_features = ['SEX', 'EDUCATION', 'MARRIAGE', 'PAY_1', 'PAY_2', 'PAY_3', 'PAY_4', 'PAY_5', 'PAY_6']\n",
    "categorical_transformer = Pipeline(steps=[\n",
    "    ('onehot', OneHotEncoder(categories='auto', handle_unknown='ignore'))\n",
    "])"
   ]
  },
  {
   "cell_type": "code",
   "execution_count": 17,
   "metadata": {},
   "outputs": [],
   "source": [
    "preprocessor = ColumnTransformer(\n",
    "    transformers=[\n",
    "        ('num', numeric_transformer, numeric_features),\n",
    "        ('cat', categorical_transformer, categorical_features)\n",
    "        #,('lab', label_transformer, label_features)\n",
    "    ])"
   ]
  },
  {
   "cell_type": "code",
   "execution_count": 1,
   "metadata": {},
   "outputs": [
    {
     "ename": "NameError",
     "evalue": "name 'data' is not defined",
     "output_type": "error",
     "traceback": [
      "\u001b[1;31m---------------------------------------------------------------------------\u001b[0m",
      "\u001b[1;31mNameError\u001b[0m                                 Traceback (most recent call last)",
      "\u001b[1;32m<ipython-input-1-7c0912e516f1>\u001b[0m in \u001b[0;36m<module>\u001b[1;34m\u001b[0m\n\u001b[0;32m      1\u001b[0m \u001b[1;31m#training and test sets\u001b[0m\u001b[1;33m\u001b[0m\u001b[1;33m\u001b[0m\u001b[1;33m\u001b[0m\u001b[0m\n\u001b[1;32m----> 2\u001b[1;33m \u001b[0my\u001b[0m \u001b[1;33m=\u001b[0m \u001b[0mdata\u001b[0m\u001b[1;33m[\u001b[0m\u001b[1;34m'default'\u001b[0m\u001b[1;33m]\u001b[0m\u001b[1;31m#.values\u001b[0m\u001b[1;33m\u001b[0m\u001b[1;33m\u001b[0m\u001b[0m\n\u001b[0m\u001b[0;32m      3\u001b[0m \u001b[0mX\u001b[0m \u001b[1;33m=\u001b[0m \u001b[0mdata\u001b[0m\u001b[1;33m.\u001b[0m\u001b[0mdrop\u001b[0m\u001b[1;33m(\u001b[0m\u001b[1;33m[\u001b[0m\u001b[1;34m'default'\u001b[0m\u001b[1;33m]\u001b[0m\u001b[1;33m,\u001b[0m \u001b[0maxis\u001b[0m\u001b[1;33m=\u001b[0m\u001b[1;36m1\u001b[0m\u001b[1;33m)\u001b[0m\u001b[1;31m#.values\u001b[0m\u001b[1;33m\u001b[0m\u001b[1;33m\u001b[0m\u001b[0m\n\u001b[0;32m      4\u001b[0m \u001b[1;33m\u001b[0m\u001b[0m\n\u001b[0;32m      5\u001b[0m \u001b[0mX_train\u001b[0m\u001b[1;33m,\u001b[0m \u001b[0mX_test\u001b[0m\u001b[1;33m,\u001b[0m \u001b[0my_train\u001b[0m\u001b[1;33m,\u001b[0m \u001b[0my_test\u001b[0m \u001b[1;33m=\u001b[0m \u001b[0mtrain_test_split\u001b[0m\u001b[1;33m(\u001b[0m\u001b[0mX\u001b[0m\u001b[1;33m,\u001b[0m \u001b[0my\u001b[0m\u001b[1;33m,\u001b[0m \u001b[0mtest_size\u001b[0m\u001b[1;33m=\u001b[0m\u001b[1;36m0.3\u001b[0m\u001b[1;33m,\u001b[0m \u001b[0mrandom_state\u001b[0m\u001b[1;33m=\u001b[0m\u001b[1;36m21\u001b[0m\u001b[1;33m,\u001b[0m \u001b[0mstratify\u001b[0m\u001b[1;33m=\u001b[0m\u001b[0my\u001b[0m\u001b[1;33m)\u001b[0m\u001b[1;33m\u001b[0m\u001b[1;33m\u001b[0m\u001b[0m\n",
      "\u001b[1;31mNameError\u001b[0m: name 'data' is not defined"
     ]
    }
   ],
   "source": [
    "#training and test sets\n",
    "y = data['default']#.values\n",
    "X = data.drop(['default'], axis=1)#.values\n",
    "\n",
    "X_train, X_test, y_train, y_test = train_test_split(X, y, test_size=0.3, random_state=21, stratify=y)"
   ]
  },
  {
   "cell_type": "code",
   "execution_count": null,
   "metadata": {},
   "outputs": [],
   "source": []
  },
  {
   "cell_type": "code",
   "execution_count": 19,
   "metadata": {},
   "outputs": [],
   "source": [
    "metrics = pd.DataFrame(index=['accuracy', 'precision', 'recall', 'AUC', 'Time to Train'], \n",
    "                       columns=['Dummy Model', 'LR', 'KNN', 'SVM', 'DT', 'RF'])"
   ]
  },
  {
   "cell_type": "markdown",
   "metadata": {},
   "source": [
    "Base Model: Dummy model"
   ]
  },
  {
   "cell_type": "code",
   "execution_count": 20,
   "metadata": {},
   "outputs": [
    {
     "name": "stdout",
     "output_type": "stream",
     "text": [
      "It takes  0.11605644226074219  seconds for Dumb Classifier fitting\n",
      "Accuracy with LR on testing set is: 0.779\n",
      "PREDICTION   pay  default  Total\n",
      "TRUE                            \n",
      "pay         7009        0   7009\n",
      "default     1991        0   1991\n",
      "Total       9000        0   9000\n",
      "              precision    recall  f1-score   support\n",
      "\n",
      "           0       0.78      1.00      0.88      7009\n",
      "           1       0.00      0.00      0.00      1991\n",
      "\n",
      "    accuracy                           0.78      9000\n",
      "   macro avg       0.39      0.50      0.44      9000\n",
      "weighted avg       0.61      0.78      0.68      9000\n",
      "\n"
     ]
    },
    {
     "name": "stderr",
     "output_type": "stream",
     "text": [
      "C:\\ProgramData\\Anaconda3\\lib\\site-packages\\sklearn\\metrics\\classification.py:1437: UndefinedMetricWarning: Precision is ill-defined and being set to 0.0 due to no predicted samples.\n",
      "  'precision', 'predicted', average, warn_for)\n",
      "C:\\ProgramData\\Anaconda3\\lib\\site-packages\\sklearn\\metrics\\classification.py:1437: UndefinedMetricWarning: Precision and F-score are ill-defined and being set to 0.0 in labels with no predicted samples.\n",
      "  'precision', 'predicted', average, warn_for)\n"
     ]
    }
   ],
   "source": [
    "#### Paso 3: Instantiate the Estimator\n",
    "\n",
    "from sklearn.dummy import DummyClassifier\n",
    "\n",
    "model = Pipeline(steps=[('preprocessor', preprocessor),\n",
    "                     ('classifier', DummyClassifier(strategy=\"most_frequent\"))])\n",
    "\n",
    "\n",
    "\n",
    "t0 = time.time()\n",
    "model.fit(X_train, y_train)\n",
    "ttt = time.time() - t0 # ttt stands for \"time to train\"\n",
    "print(\"It takes \", ttt, \" seconds for Dumb Classifier fitting\")\n",
    "metrics.loc['Time to Train', 'Dummy Model'] = ttt\n",
    "\n",
    "\n",
    "y_pred = model.predict(X_test)\n",
    "\n",
    "print(\"Accuracy with LR on testing set is: %.3f\" % model.score(X_test, y_test))\n",
    "# Latest accuracy is 0.779\n",
    "\n",
    "metrics.loc['accuracy', 'Dummy Model'] = accuracy_score(y_pred=y_pred, y_true=y_test)\n",
    "metrics.loc['precision', 'Dummy Model'] = precision_score(y_pred=y_pred, y_true=y_test)\n",
    "metrics.loc['recall', 'Dummy Model'] = recall_score(y_pred=y_pred, y_true=y_test)\n",
    "\n",
    "y_pred_prob = model.predict_proba(X_test)[:,1]\n",
    "\n",
    "metrics.loc['AUC', 'Dummy Model'] = roc_auc_score(y_test, y_pred_prob)\n",
    "\n",
    "\n",
    "def Conf_Matrix(CM, labels=['pay', 'default']):\n",
    "    df = pd.DataFrame(data=CM, index=labels, columns=labels)\n",
    "    df.index.name = 'TRUE'\n",
    "    df.columns.name = 'PREDICTION'\n",
    "    df.loc['Total'] = df.sum()\n",
    "    df['Total'] = df.sum(axis=1)\n",
    "    return df\n",
    "\n",
    "print(Conf_Matrix(confusion_matrix(y_test, y_pred)))\n",
    "print(classification_report(y_test, y_pred))\n"
   ]
  },
  {
   "cell_type": "markdown",
   "metadata": {},
   "source": [
    "Model 1: Logistic Regression*"
   ]
  },
  {
   "cell_type": "code",
   "execution_count": 21,
   "metadata": {},
   "outputs": [
    {
     "name": "stdout",
     "output_type": "stream",
     "text": [
      "It takes 122.608  seconds for Logistic Regression fitting\n",
      "Accuracy with lr on testing set is: 0.824\n",
      "PREDICTION   pay  default  Total\n",
      "TRUE                            \n",
      "pay         6687      322   7009\n",
      "default     1259      732   1991\n",
      "Total       7946     1054   9000\n",
      "              precision    recall  f1-score   support\n",
      "\n",
      "           0       0.84      0.95      0.89      7009\n",
      "           1       0.69      0.37      0.48      1991\n",
      "\n",
      "    accuracy                           0.82      9000\n",
      "   macro avg       0.77      0.66      0.69      9000\n",
      "weighted avg       0.81      0.82      0.80      9000\n",
      "\n"
     ]
    },
    {
     "data": {
      "image/png": "[encoded data removed]",
      "text/plain": [
       "<Figure size 432x288 with 1 Axes>"
      ]
     },
     "metadata": {
      "needs_background": "light"
     },
     "output_type": "display_data"
    }
   ],
   "source": [
    "#### Paso 3: Instantiate the Estimator\n",
    "\n",
    "from sklearn.linear_model import LogisticRegression\n",
    "\n",
    "lr = Pipeline(steps=[('preprocessor', preprocessor),\n",
    "                     ('classifier', LogisticRegression(solver='liblinear', random_state=21))])\n",
    "\n",
    "\n",
    "param_grid_lr = {\n",
    "    \n",
    "    'classifier__C': np.logspace(-5, 8, 15),\n",
    "    'classifier__penalty': ['l1', 'l2']\n",
    "}\n",
    "\n",
    "\n",
    "\n",
    "lr_cv = GridSearchCV(lr, param_grid_lr, cv=5, iid=False)\n",
    "\n",
    "\n",
    "\n",
    "t0 = time.time()\n",
    "lr_cv.fit(X_train, y_train)\n",
    "ttt = time.time() - t0 # ttt stands for \"time to train\"\n",
    "print(\"It takes %.3f\" % ttt, \" seconds for Logistic Regression fitting\")\n",
    "metrics.loc['Time to Train', 'LR'] = ttt\n",
    "\n",
    "\n",
    "\n",
    "y_pred = lr_cv.predict(X_test)\n",
    "\n",
    "\n",
    "print(\"Accuracy with lr on testing set is: %.3f\" % lr_cv.score(X_test, y_test))\n",
    "# Latest accuracy is 0.82\n",
    "\n",
    "metrics.loc['accuracy', 'LR'] = accuracy_score(y_pred=y_pred, y_true=y_test)\n",
    "metrics.loc['precision', 'LR'] = precision_score(y_pred=y_pred, y_true=y_test)\n",
    "metrics.loc['recall', 'LR'] = recall_score(y_pred=y_pred, y_true=y_test)\n",
    "\n",
    "y_pred_prob = lr_cv.predict_proba(X_test)[:,1]\n",
    "metrics.loc['AUC', 'LR'] = roc_auc_score(y_test, y_pred_prob)\n",
    "\n",
    "print(Conf_Matrix(confusion_matrix(y_test, y_pred)))\n",
    "print(classification_report(y_test, y_pred))\n",
    "\n",
    "# ROC Curve\n",
    "fpr, tpr, thresholds  = roc_curve(y_test, y_pred_prob)\n",
    "plt.plot([0,1], [0,1], 'k--')\n",
    "plt.plot(fpr, tpr, label='Logistic Regression')\n",
    "plt.xlabel('False Positive Rate')\n",
    "plt.ylabel('True Positive Rate')\n",
    "plt.title('Logistic Regression ROC Curve')\n",
    "plt.show()"
   ]
  },
  {
   "cell_type": "markdown",
   "metadata": {},
   "source": [
    "under de curve area"
   ]
  },
  {
   "cell_type": "code",
   "execution_count": 18,
   "metadata": {},
   "outputs": [
    {
     "data": {
      "text/plain": [
       "0.7707402314553027"
      ]
     },
     "execution_count": 18,
     "metadata": {},
     "output_type": "execute_result"
    }
   ],
   "source": [
    "roc_auc_score(y_test, y_pred_prob)"
   ]
  },
  {
   "cell_type": "markdown",
   "metadata": {},
   "source": [
    "Entonces, al comparar nuestro modelo con el modelo dummy por precisión y f1-score además del simple recall, vemos que nuestro modelo tiene una mejora sustancial. La precisión ponderada aumenta en 0.2 y la puntuación f1 ponderada en 0.12."
   ]
  },
  {
   "cell_type": "markdown",
   "metadata": {},
   "source": [
    "###### Mejores Parametros"
   ]
  },
  {
   "cell_type": "markdown",
   "metadata": {},
   "source": [
    "print(\"mean cross-validated score of the best_estimator: %.3f \" % lr_cv.best_score_)\n",
    "print(\"Parameter setting that gave the best results on the hold out data: C = %.3f\" % lr_cv.best_params_.get('classifier__C'))\n",
    "print(\"Parameter setting that gave the best results on the hold out data: penalty =\", lr_cv.best_params_.get('classifier__penalty'))"
   ]
  },
  {
   "cell_type": "code",
   "execution_count": 22,
   "metadata": {},
   "outputs": [
    {
     "name": "stdout",
     "output_type": "stream",
     "text": [
      "Total Number of Features: 74\n",
      " Number of Selected Features: 74\n"
     ]
    }
   ],
   "source": [
    "coefs = lr_cv.best_estimator_.named_steps['classifier'].coef_\n",
    "print(\"Total Number of Features:\", coefs.size)\n",
    "print(\" Number of Selected Features:\", np.count_nonzero(coefs))"
   ]
  },
  {
   "cell_type": "markdown",
   "metadata": {},
   "source": [
    "###### Ingeniería de características"
   ]
  },
  {
   "cell_type": "markdown",
   "metadata": {},
   "source": [
    "Mirando registros con baja probabilidad de incumplimiento"
   ]
  },
  {
   "cell_type": "code",
   "execution_count": 23,
   "metadata": {},
   "outputs": [],
   "source": [
    "train_data = X_train.join(y_train)\n",
    "test_data = X_test.join(y_test)\n",
    "\n",
    "if ('prob_of_default' in train_data):\n",
    "    train_data = train_data.drop(columns=['prob_of_default'])\n",
    "if ('prob_of_default' in test_data):\n",
    "    test_data = test_data.drop(columns=['prob_of_default'])\n",
    "\n",
    "probs_train = lr_cv.predict_proba(X_train)[:,1] # probs = probability of default\n",
    "probs_test = lr_cv.predict_proba(X_test)[:,1] # probs = probability of default\n",
    "\n",
    "train_data['prob_of_default'] = probs_train\n",
    "test_data['prob_of_default'] = probs_test\n",
    "\n",
    "train_data['train/test'] = 'train'\n",
    "test_data['train/test'] = 'test'\n",
    "\n",
    "new_data = train_data.append(test_data).sort_index()"
   ]
  },
  {
   "cell_type": "code",
   "execution_count": 24,
   "metadata": {},
   "outputs": [],
   "source": [
    "train_ranked = new_data.loc[new_data['train/test'] == 'train'].sort_values(by='prob_of_default')\n",
    "test_ranked = new_data.loc[new_data['train/test'] == 'test'].sort_values(by='prob_of_default')"
   ]
  },
  {
   "cell_type": "markdown",
   "metadata": {},
   "source": [
    "We can see values with low probability of payment"
   ]
  },
  {
   "cell_type": "code",
   "execution_count": 25,
   "metadata": {
    "scrolled": false
   },
   "outputs": [
    {
     "data": {
      "text/html": [
       "<div>\n",
       "<style scoped>\n",
       "    .dataframe tbody tr th:only-of-type {\n",
       "        vertical-align: middle;\n",
       "    }\n",
       "\n",
       "    .dataframe tbody tr th {\n",
       "        vertical-align: top;\n",
       "    }\n",
       "\n",
       "    .dataframe thead th {\n",
       "        text-align: right;\n",
       "    }\n",
       "</style>\n",
       "<table border=\"1\" class=\"dataframe\">\n",
       "  <thead>\n",
       "    <tr style=\"text-align: right;\">\n",
       "      <th></th>\n",
       "      <th>LIMIT_BAL</th>\n",
       "      <th>SEX</th>\n",
       "      <th>EDUCATION</th>\n",
       "      <th>MARRIAGE</th>\n",
       "      <th>AGE</th>\n",
       "      <th>PAY_1</th>\n",
       "      <th>PAY_2</th>\n",
       "      <th>PAY_3</th>\n",
       "      <th>PAY_4</th>\n",
       "      <th>PAY_5</th>\n",
       "      <th>PAY_6</th>\n",
       "      <th>BILL_AMT1</th>\n",
       "      <th>BILL_AMT2</th>\n",
       "      <th>BILL_AMT3</th>\n",
       "      <th>BILL_AMT4</th>\n",
       "      <th>BILL_AMT5</th>\n",
       "      <th>BILL_AMT6</th>\n",
       "      <th>PAY_AMT1</th>\n",
       "      <th>PAY_AMT2</th>\n",
       "      <th>PAY_AMT3</th>\n",
       "      <th>PAY_AMT4</th>\n",
       "      <th>PAY_AMT5</th>\n",
       "      <th>PAY_AMT6</th>\n",
       "      <th>default</th>\n",
       "      <th>prob_of_default</th>\n",
       "      <th>train/test</th>\n",
       "    </tr>\n",
       "  </thead>\n",
       "  <tbody>\n",
       "    <tr>\n",
       "      <td>18967</td>\n",
       "      <td>480000.0</td>\n",
       "      <td>2</td>\n",
       "      <td>2</td>\n",
       "      <td>2</td>\n",
       "      <td>30.0</td>\n",
       "      <td>0</td>\n",
       "      <td>0</td>\n",
       "      <td>0</td>\n",
       "      <td>0</td>\n",
       "      <td>0</td>\n",
       "      <td>0</td>\n",
       "      <td>470400.0</td>\n",
       "      <td>0.0</td>\n",
       "      <td>0.0</td>\n",
       "      <td>0.0</td>\n",
       "      <td>0.0</td>\n",
       "      <td>330982.0</td>\n",
       "      <td>0.0</td>\n",
       "      <td>0.0</td>\n",
       "      <td>0.0</td>\n",
       "      <td>0.0</td>\n",
       "      <td>330982.0</td>\n",
       "      <td>30000.0</td>\n",
       "      <td>1</td>\n",
       "      <td>0.008714</td>\n",
       "      <td>train</td>\n",
       "    </tr>\n",
       "  </tbody>\n",
       "</table>\n",
       "</div>"
      ],
      "text/plain": [
       "       LIMIT_BAL  SEX  EDUCATION  MARRIAGE   AGE  PAY_1  PAY_2  PAY_3  PAY_4  \\\n",
       "18967   480000.0    2          2         2  30.0      0      0      0      0   \n",
       "\n",
       "       PAY_5  PAY_6  BILL_AMT1  BILL_AMT2  BILL_AMT3  BILL_AMT4  BILL_AMT5  \\\n",
       "18967      0      0   470400.0        0.0        0.0        0.0        0.0   \n",
       "\n",
       "       BILL_AMT6  PAY_AMT1  PAY_AMT2  PAY_AMT3  PAY_AMT4  PAY_AMT5  PAY_AMT6  \\\n",
       "18967   330982.0       0.0       0.0       0.0       0.0  330982.0   30000.0   \n",
       "\n",
       "       default  prob_of_default train/test  \n",
       "18967        1         0.008714      train  "
      ]
     },
     "execution_count": 25,
     "metadata": {},
     "output_type": "execute_result"
    }
   ],
   "source": [
    "train_ranked.loc[(train_ranked.prob_of_default < 0.5) & (train_ranked.default == 1)].head(1)"
   ]
  },
  {
   "cell_type": "markdown",
   "metadata": {},
   "source": [
    "Default value of 18967 has an default probability of 1% approv. This ssems to happened because of a high account balance in September, just before the they broke. One conclusion is to see all clinets with high invoices in September and to see how many are not paid yet"
   ]
  },
  {
   "cell_type": "code",
   "execution_count": 26,
   "metadata": {},
   "outputs": [
    {
     "data": {
      "text/plain": [
       "0.136935318275154"
      ]
     },
     "execution_count": 26,
     "metadata": {},
     "output_type": "execute_result"
    }
   ],
   "source": [
    "train_ranked.loc[(train_ranked.PAY_1 == 0 ) & (train_ranked.BILL_AMT1 > 0)].default.mean()"
   ]
  },
  {
   "cell_type": "markdown",
   "metadata": {},
   "source": [
    "Is not the same case with PAY_1 = 0 and BILL_ATM1 > 0 default more than average. Actually its value is lower than average. What happens is we also have an account in PAT_ATM1?"
   ]
  },
  {
   "cell_type": "code",
   "execution_count": 27,
   "metadata": {},
   "outputs": [
    {
     "data": {
      "text/plain": [
       "0.2199248120300752"
      ]
     },
     "execution_count": 27,
     "metadata": {},
     "output_type": "execute_result"
    }
   ],
   "source": [
    "train_ranked.loc[(train_ranked.PAY_1 == 0 ) & (train_ranked.BILL_AMT1 > 0) & (train_ranked.PAY_AMT1 == 0)].default.mean()"
   ]
  },
  {
   "cell_type": "markdown",
   "metadata": {},
   "source": [
    "It is higher but only over the median , we cannot create a rule based on this"
   ]
  },
  {
   "cell_type": "code",
   "execution_count": 28,
   "metadata": {},
   "outputs": [
    {
     "data": {
      "text/plain": [
       "prob_of_default    1.000000\n",
       "PAY_1              0.863046\n",
       "PAY_2              0.717357\n",
       "PAY_3              0.620379\n",
       "PAY_4              0.569172\n",
       "PAY_5              0.553823\n",
       "PAY_6              0.529635\n",
       "default            0.448376\n",
       "EDUCATION          0.072797\n",
       "AGE                0.029596\n",
       "BILL_AMT6         -0.012769\n",
       "BILL_AMT5         -0.014157\n",
       "BILL_AMT4         -0.023480\n",
       "BILL_AMT3         -0.027610\n",
       "BILL_AMT2         -0.027901\n",
       "BILL_AMT1         -0.038691\n",
       "MARRIAGE          -0.057787\n",
       "SEX               -0.076343\n",
       "PAY_AMT6          -0.111689\n",
       "PAY_AMT4          -0.120847\n",
       "PAY_AMT5          -0.123324\n",
       "PAY_AMT2          -0.123772\n",
       "PAY_AMT3          -0.141115\n",
       "PAY_AMT1          -0.170352\n",
       "LIMIT_BAL         -0.327867\n",
       "Name: prob_of_default, dtype: float64"
      ]
     },
     "execution_count": 28,
     "metadata": {},
     "output_type": "execute_result"
    }
   ],
   "source": [
    "train_ranked.corr()['prob_of_default'].sort_values(ascending=False)"
   ]
  },
  {
   "cell_type": "markdown",
   "metadata": {},
   "source": [
    "The non-payment probability is highly related with rembursement state, and the correlation force increases with time."
   ]
  },
  {
   "cell_type": "markdown",
   "metadata": {},
   "source": [
    "Model 2: KNN"
   ]
  },
  {
   "cell_type": "code",
   "execution_count": 29,
   "metadata": {},
   "outputs": [
    {
     "name": "stdout",
     "output_type": "stream",
     "text": [
      "It takes 174.053  seconds for KNN fitting\n",
      "Accuracy with KNN on the test set is: 0.821\n",
      "PREDICTION   pay  default  Total\n",
      "TRUE                            \n",
      "pay         6695      314   7009\n",
      "default     1297      694   1991\n",
      "Total       7992     1008   9000\n",
      "              precision    recall  f1-score   support\n",
      "\n",
      "           0       0.84      0.96      0.89      7009\n",
      "           1       0.69      0.35      0.46      1991\n",
      "\n",
      "    accuracy                           0.82      9000\n",
      "   macro avg       0.76      0.65      0.68      9000\n",
      "weighted avg       0.80      0.82      0.80      9000\n",
      "\n"
     ]
    },
    {
     "data": {
      "image/png": "[encoded data removed]",
      "text/plain": [
       "<Figure size 432x288 with 1 Axes>"
      ]
     },
     "metadata": {
      "needs_background": "light"
     },
     "output_type": "display_data"
    }
   ],
   "source": [
    "from sklearn.neighbors import KNeighborsClassifier\n",
    "\n",
    "#3\n",
    "knn = Pipeline(steps=[('preprocessor', preprocessor),\n",
    "                     ('classifier', KNeighborsClassifier())])\n",
    "#4\n",
    "param_grid_knn = {\n",
    "    'classifier__n_neighbors': np.arange(1,20)\n",
    "}\n",
    "\n",
    "#5\n",
    "knn_cv = RandomizedSearchCV(knn, param_grid_knn, cv=3, iid=False)\n",
    "\n",
    "#6\n",
    "t0 = time.time()\n",
    "knn_cv.fit(X_train, y_train)\n",
    "ttt = time.time() - t0 # ttt stands for \"time to train\"\n",
    "print(\"It takes %.3f\" % ttt, \" seconds for KNN fitting\")\n",
    "metrics.loc['Time to Train', 'KNN'] = ttt\n",
    "\n",
    "#7\n",
    "y_pred = knn_cv.predict(X_test)\n",
    "\n",
    "#8\n",
    "print(\"Accuracy with KNN on the test set is: %.3f\" % knn_cv.score(X_test, y_test))\n",
    "# latest accuracy is 0.81\n",
    "\n",
    "metrics.loc['accuracy', 'KNN'] = accuracy_score(y_pred=y_pred, y_true=y_test)\n",
    "metrics.loc['precision', 'KNN'] = precision_score(y_pred=y_pred, y_true=y_test)\n",
    "metrics.loc['recall', 'KNN'] = recall_score(y_pred=y_pred, y_true=y_test)\n",
    "\n",
    "y_pred_prob = knn_cv.predict_proba(X_test)[:,1]\n",
    "metrics.loc['AUC', 'KNN'] = roc_auc_score(y_test, y_pred_prob)\n",
    "\n",
    "print(Conf_Matrix(confusion_matrix(y_test, y_pred)))\n",
    "print(classification_report(y_test, y_pred))\n",
    "\n",
    "\n",
    "# ROC Curve\n",
    "fpr, tpr, thresholds  = roc_curve(y_test, y_pred_prob)\n",
    "plt.plot([0,1], [0,1], 'k--')\n",
    "plt.plot(fpr, tpr, label='KNN')\n",
    "plt.xlabel('False Positive Rate')\n",
    "plt.ylabel('True Positive Rate')\n",
    "plt.title('KNN ROC Curve')\n",
    "plt.show()"
   ]
  },
  {
   "cell_type": "markdown",
   "metadata": {},
   "source": [
    "Better Parameters"
   ]
  },
  {
   "cell_type": "code",
   "execution_count": 2,
   "metadata": {
    "scrolled": true
   },
   "outputs": [
    {
     "ename": "NameError",
     "evalue": "name 'knn_cv' is not defined",
     "output_type": "error",
     "traceback": [
      "\u001b[1;31m---------------------------------------------------------------------------\u001b[0m",
      "\u001b[1;31mNameError\u001b[0m                                 Traceback (most recent call last)",
      "\u001b[1;32m<ipython-input-2-4bf0cc91f1a4>\u001b[0m in \u001b[0;36m<module>\u001b[1;34m\u001b[0m\n\u001b[1;32m----> 1\u001b[1;33m \u001b[0mprint\u001b[0m\u001b[1;33m(\u001b[0m\u001b[1;34m\"mean cross-validated score of the best_estimator: %.3f \"\u001b[0m \u001b[1;33m%\u001b[0m \u001b[0mknn_cv\u001b[0m\u001b[1;33m.\u001b[0m\u001b[0mbest_score_\u001b[0m\u001b[1;33m)\u001b[0m\u001b[1;33m\u001b[0m\u001b[1;33m\u001b[0m\u001b[0m\n\u001b[0m\u001b[0;32m      2\u001b[0m \u001b[0mprint\u001b[0m\u001b[1;33m(\u001b[0m\u001b[1;34m\"Parameter setting that gave the best results on the hold out data: n_neighbors =\"\u001b[0m\u001b[1;33m,\u001b[0m \u001b[0mknn_cv\u001b[0m\u001b[1;33m.\u001b[0m\u001b[0mbest_params_\u001b[0m\u001b[1;33m.\u001b[0m\u001b[0mget\u001b[0m\u001b[1;33m(\u001b[0m\u001b[1;34m'classifier__n_neighbors'\u001b[0m\u001b[1;33m)\u001b[0m\u001b[1;33m)\u001b[0m\u001b[1;33m\u001b[0m\u001b[1;33m\u001b[0m\u001b[0m\n",
      "\u001b[1;31mNameError\u001b[0m: name 'knn_cv' is not defined"
     ]
    }
   ],
   "source": [
    "print(\"mean cross-validated score of the best_estimator: %.3f \" % knn_cv.best_score_)\n",
    "print(\"Parameter setting that gave the best results on the hold out data: n_neighbors =\", knn_cv.best_params_.get('classifier__n_neighbors'))"
   ]
  },
  {
   "cell_type": "code",
   "execution_count": null,
   "metadata": {},
   "outputs": [],
   "source": []
  },
  {
   "cell_type": "code",
   "execution_count": null,
   "metadata": {},
   "outputs": [],
   "source": []
  },
  {
   "cell_type": "code",
   "execution_count": null,
   "metadata": {},
   "outputs": [],
   "source": []
  },
  {
   "cell_type": "code",
   "execution_count": null,
   "metadata": {},
   "outputs": [],
   "source": []
  },
  {
   "cell_type": "markdown",
   "metadata": {},
   "source": [
    "#### Model 3: Support Vector Machine"
   ]
  },
  {
   "cell_type": "code",
   "execution_count": 31,
   "metadata": {},
   "outputs": [
    {
     "name": "stdout",
     "output_type": "stream",
     "text": [
      "It takes 968.909  seconds for SVM fitting\n",
      "Accuracy with SVM on the test set is: 0.826\n",
      "PREDICTION   pay  default  Total\n",
      "TRUE                            \n",
      "pay         6702      307   7009\n",
      "default     1261      730   1991\n",
      "Total       7963     1037   9000\n",
      "              precision    recall  f1-score   support\n",
      "\n",
      "           0       0.84      0.96      0.90      7009\n",
      "           1       0.70      0.37      0.48      1991\n",
      "\n",
      "    accuracy                           0.83      9000\n",
      "   macro avg       0.77      0.66      0.69      9000\n",
      "weighted avg       0.81      0.83      0.80      9000\n",
      "\n"
     ]
    }
   ],
   "source": [
    "from sklearn.svm import SVC\n",
    "#3\n",
    "svm = Pipeline(steps=[('preprocessor', preprocessor),\n",
    "                     ('classifier', SVC())])\n",
    "#4\n",
    "param_grid_svm = {\n",
    "    'classifier__C': [0.1, 1, 10, 100],\n",
    "    'classifier__gamma': [1, 0.1, 0.01]\n",
    "}\n",
    "\n",
    "#5\n",
    "svm_cv = RandomizedSearchCV(svm, param_grid_svm, cv=3, iid=False)\n",
    "\n",
    "#6\n",
    "t0 = time.time()\n",
    "svm_cv.fit(X_train, y_train)\n",
    "ttt = time.time() - t0 # ttt stands for \"time to train\"\n",
    "print(\"It takes %.3f\" % ttt, \" seconds for SVM fitting\")\n",
    "metrics.loc['Time to Train', 'SVM'] = ttt\n",
    "\n",
    "#7\n",
    "y_pred = svm_cv.predict(X_test)\n",
    "\n",
    "#8\n",
    "print(\"Accuracy with SVM on the test set is: %.3f\" % svm_cv.score(X_test, y_test))\n",
    "\n",
    "metrics.loc['accuracy', 'SVM'] = accuracy_score(y_pred=y_pred, y_true=y_test)\n",
    "metrics.loc['precision', 'SVM'] = precision_score(y_pred=y_pred, y_true=y_test)\n",
    "metrics.loc['recall', 'SVM'] = recall_score(y_pred=y_pred, y_true=y_test)\n",
    "\n",
    "# SVC class doesn't have a predict_proba method\n",
    "# y_pred_prob = svm_cv.predict_proba(X_test)[:,1]\n",
    "# metrics.loc['AUC', 'SVM'] = roc_auc_score(y_test, y_pred_prob)\n",
    "\n",
    "print(Conf_Matrix(confusion_matrix(y_test, y_pred)))\n",
    "print(classification_report(y_test, y_pred))\n",
    "\n",
    "# No ROC Curve because no predict_proba method\n",
    "# ROC Curve\n",
    "# fpr, tpr, thresholds  = roc_curve(y_test, y_pred_prob)\n",
    "# plt.plot([0,1], [0,1], 'k--')\n",
    "# plt.plot(fpr, tpr, label='SVM')\n",
    "# plt.xlabel('False Positive Rate')\n",
    "# plt.ylabel('True Positive Rate')\n",
    "# plt.title('SVM ROC Curve')\n",
    "# plt.show()"
   ]
  },
  {
   "cell_type": "markdown",
   "metadata": {},
   "source": [
    "Better parameters"
   ]
  },
  {
   "cell_type": "code",
   "execution_count": 32,
   "metadata": {},
   "outputs": [
    {
     "name": "stdout",
     "output_type": "stream",
     "text": [
      "mean cross-validated score of the best_estimator: 0.818 \n",
      "Parameter setting that gave the best results on the hold out data: C = 1\n",
      "Parameter setting that gave the best results on the hold out data: gamma = 0.1\n"
     ]
    }
   ],
   "source": [
    "print(\"mean cross-validated score of the best_estimator: %.3f \" % svm_cv.best_score_)\n",
    "print(\"Parameter setting that gave the best results on the hold out data: C =\", svm_cv.best_params_.get('classifier__C'))\n",
    "print(\"Parameter setting that gave the best results on the hold out data: gamma =\", svm_cv.best_params_.get('classifier__gamma'))"
   ]
  },
  {
   "cell_type": "code",
   "execution_count": null,
   "metadata": {},
   "outputs": [],
   "source": []
  },
  {
   "cell_type": "code",
   "execution_count": null,
   "metadata": {},
   "outputs": [],
   "source": []
  },
  {
   "cell_type": "markdown",
   "metadata": {},
   "source": [
    "#### Model 4: Decision Tree"
   ]
  },
  {
   "cell_type": "code",
   "execution_count": 33,
   "metadata": {},
   "outputs": [
    {
     "name": "stdout",
     "output_type": "stream",
     "text": [
      "It takes 14.403  seconds for dt fitting\n",
      "Accuracy with dt on the test set is: 0.817\n",
      "PREDICTION   pay  default  Total\n",
      "TRUE                            \n",
      "pay         6664      345   7009\n",
      "default     1299      692   1991\n",
      "Total       7963     1037   9000\n",
      "              precision    recall  f1-score   support\n",
      "\n",
      "           0       0.84      0.95      0.89      7009\n",
      "           1       0.67      0.35      0.46      1991\n",
      "\n",
      "    accuracy                           0.82      9000\n",
      "   macro avg       0.75      0.65      0.67      9000\n",
      "weighted avg       0.80      0.82      0.79      9000\n",
      "\n"
     ]
    },
    {
     "data": {
      "image/png": "[encoded data removed]",
      "text/plain": [
       "<Figure size 432x288 with 1 Axes>"
      ]
     },
     "metadata": {
      "needs_background": "light"
     },
     "output_type": "display_data"
    }
   ],
   "source": [
    "from sklearn.tree import DecisionTreeClassifier\n",
    "\n",
    "#3\n",
    "dt = Pipeline(steps=[('preprocessor', preprocessor),\n",
    "                     ('classifier', DecisionTreeClassifier(random_state=21))])\n",
    "#4\n",
    "\n",
    "param_grid_dt = {'classifier__max_depth': [3, 10, 20, None],\n",
    "                'classifier__max_features': randint(1, 9),\n",
    "                'classifier__min_samples_leaf': randint(1, 9),\n",
    "                'classifier__min_samples_split': randint(2, 9),\n",
    "                'classifier__criterion': [\"gini\", \"entropy\"]}\n",
    "\n",
    "#5\n",
    "dt_cv = RandomizedSearchCV(dt, param_grid_dt, cv=10, iid=False)\n",
    "\n",
    "#6\n",
    "t0 = time.time()\n",
    "dt_cv.fit(X_train, y_train)\n",
    "ttt = time.time() - t0 # ttt stands for \"time to train\"\n",
    "print(\"It takes %.3f\" % ttt, \" seconds for dt fitting\")\n",
    "metrics.loc['Time to Train', 'DT'] = ttt\n",
    "\n",
    "#7\n",
    "y_pred = dt_cv.predict(X_test)\n",
    "\n",
    "#8\n",
    "print(\"Accuracy with dt on the test set is: %.3f\" % dt_cv.score(X_test, y_test))\n",
    "\n",
    "metrics.loc['accuracy', 'DT'] = accuracy_score(y_pred=y_pred, y_true=y_test)\n",
    "metrics.loc['precision', 'DT'] = precision_score(y_pred=y_pred, y_true=y_test)\n",
    "metrics.loc['recall', 'DT'] = recall_score(y_pred=y_pred, y_true=y_test)\n",
    "\n",
    "y_pred_prob = dt_cv.predict_proba(X_test)[:,1]\n",
    "metrics.loc['AUC', 'DT'] = roc_auc_score(y_test, y_pred_prob)\n",
    "\n",
    "print(Conf_Matrix(confusion_matrix(y_test, y_pred)))\n",
    "print(classification_report(y_test, y_pred))\n",
    "\n",
    "\n",
    "# ROC Curve\n",
    "fpr, tpr, thresholds  = roc_curve(y_test, y_pred_prob)\n",
    "plt.plot([0,1], [0,1], 'k--')\n",
    "plt.plot(fpr, tpr, label='Decision Tree')\n",
    "plt.xlabel('False Positive Rate')\n",
    "plt.ylabel('True Positive Rate')\n",
    "plt.title('DT ROC Curve')\n",
    "plt.show()"
   ]
  },
  {
   "cell_type": "markdown",
   "metadata": {},
   "source": [
    "##### Mejores parametros"
   ]
  },
  {
   "cell_type": "code",
   "execution_count": 34,
   "metadata": {},
   "outputs": [
    {
     "name": "stdout",
     "output_type": "stream",
     "text": [
      "mean cross-validated score of the best_estimator: 0.805 \n",
      "Parameter setting that gave the best results on the hold out data: max_depth = 10\n",
      "Parameter setting that gave the best results on the hold out data: max_features = 8\n",
      "Parameter setting that gave the best results on the hold out data: min_samples_leaf = 8\n",
      "Parameter setting that gave the best results on the hold out data: min_samples_split = 3\n",
      "Parameter setting that gave the best results on the hold out data: criterion = entropy\n"
     ]
    }
   ],
   "source": [
    "print(\"mean cross-validated score of the best_estimator: %.3f \" % dt_cv.best_score_)\n",
    "print(\"Parameter setting that gave the best results on the hold out data: max_depth =\", dt_cv.best_params_.get('classifier__max_depth'))\n",
    "print(\"Parameter setting that gave the best results on the hold out data: max_features =\", dt_cv.best_params_.get('classifier__max_features'))\n",
    "print(\"Parameter setting that gave the best results on the hold out data: min_samples_leaf =\", dt_cv.best_params_.get('classifier__min_samples_leaf'))\n",
    "print(\"Parameter setting that gave the best results on the hold out data: min_samples_split =\", dt_cv.best_params_.get('classifier__min_samples_split'))\n",
    "print(\"Parameter setting that gave the best results on the hold out data: criterion =\", dt_cv.best_params_.get('classifier__criterion'))"
   ]
  },
  {
   "cell_type": "code",
   "execution_count": null,
   "metadata": {},
   "outputs": [],
   "source": []
  },
  {
   "cell_type": "code",
   "execution_count": null,
   "metadata": {},
   "outputs": [],
   "source": []
  },
  {
   "cell_type": "markdown",
   "metadata": {},
   "source": [
    "Model 5: RandomForest"
   ]
  },
  {
   "cell_type": "code",
   "execution_count": 33,
   "metadata": {},
   "outputs": [],
   "source": [
    "#%run import_data.py"
   ]
  },
  {
   "cell_type": "code",
   "execution_count": 36,
   "metadata": {},
   "outputs": [],
   "source": [
    "#%run -i std_preprocessing_and_splitting.py"
   ]
  },
  {
   "cell_type": "code",
   "execution_count": 35,
   "metadata": {},
   "outputs": [
    {
     "name": "stdout",
     "output_type": "stream",
     "text": [
      "It takes 189.350  seconds for rf fitting\n",
      "Accuracy with RF on the test set is: 0.825\n",
      "PREDICTION   pay  default  Total\n",
      "TRUE                            \n",
      "pay         6682      327   7009\n",
      "default     1249      742   1991\n",
      "Total       7931     1069   9000\n",
      "              precision    recall  f1-score   support\n",
      "\n",
      "           0       0.84      0.95      0.89      7009\n",
      "           1       0.69      0.37      0.48      1991\n",
      "\n",
      "    accuracy                           0.82      9000\n",
      "   macro avg       0.77      0.66      0.69      9000\n",
      "weighted avg       0.81      0.82      0.80      9000\n",
      "\n"
     ]
    },
    {
     "data": {
      "image/png": "[encoded data removed]",
      "text/plain": [
       "<Figure size 432x288 with 1 Axes>"
      ]
     },
     "metadata": {
      "needs_background": "light"
     },
     "output_type": "display_data"
    }
   ],
   "source": [
    "from sklearn.ensemble import RandomForestClassifier\n",
    "\n",
    "#3\n",
    "rf = Pipeline(steps=[('preprocessor', preprocessor),\n",
    "                     ('classifier', RandomForestClassifier())])\n",
    "#4\n",
    "#Configure los parámetros y distribuciones para muestrear: param_dist\n",
    "param_grid_rf = {'classifier__n_estimators': [50, 100],\n",
    "                'classifier__criterion': [\"gini\", \"entropy\"],\n",
    "                 'classifier__max_depth': [3, 10, 20, None],\n",
    "                 'classifier__min_samples_leaf': randint(1, 9),\n",
    "                 'classifier__min_samples_split': randint(2, 9),\n",
    "                 'classifier__max_features': randint(1, 9)\n",
    "                }\n",
    "\n",
    "#5\n",
    "rf_cv = RandomizedSearchCV(rf, param_grid_rf, cv=10, iid=False)\n",
    "\n",
    "#6\n",
    "t0 = time.time()\n",
    "rf_cv.fit(X_train, y_train)\n",
    "ttt = time.time() - t0 # ttt stands for \"time to train\"\n",
    "print(\"It takes %.3f\" % ttt, \" seconds for rf fitting\")\n",
    "metrics.loc['Time to Train', 'RF'] = ttt\n",
    "\n",
    "#7\n",
    "y_pred = rf_cv.predict(X_test)\n",
    "\n",
    "#8\n",
    "print(\"Accuracy with RF on the test set is: %.3f\" % rf_cv.score(X_test, y_test))\n",
    "\n",
    "metrics.loc['accuracy', 'RF'] = accuracy_score(y_pred=y_pred, y_true=y_test)\n",
    "metrics.loc['precision', 'RF'] = precision_score(y_pred=y_pred, y_true=y_test)\n",
    "metrics.loc['recall', 'RF'] = recall_score(y_pred=y_pred, y_true=y_test)\n",
    "\n",
    "y_pred_prob = rf_cv.predict_proba(X_test)[:,1]\n",
    "metrics.loc['AUC', 'RF'] = roc_auc_score(y_test, y_pred_prob)\n",
    "\n",
    "print(Conf_Matrix(confusion_matrix(y_test, y_pred)))\n",
    "print(classification_report(y_test, y_pred))\n",
    "\n",
    "\n",
    "# ROC Curve\n",
    "fpr, tpr, thresholds  = roc_curve(y_test, y_pred_prob)\n",
    "plt.plot([0,1], [0,1], 'k--')\n",
    "plt.plot(fpr, tpr, label='Random Forest')\n",
    "plt.xlabel('False Positive Rate')\n",
    "plt.ylabel('True Positive Rate')\n",
    "plt.title('RF ROC Curve')\n",
    "plt.show()"
   ]
  },
  {
   "cell_type": "markdown",
   "metadata": {},
   "source": [
    "##### Mejores Parametros"
   ]
  },
  {
   "cell_type": "code",
   "execution_count": 36,
   "metadata": {},
   "outputs": [
    {
     "name": "stdout",
     "output_type": "stream",
     "text": [
      "mean cross-validated score of the best_estimator: 0.817 \n",
      "Parameter setting that gave the best results on the hold out data: n_estimators = 100\n",
      "Parameter setting that gave the best results on the hold out data: max_depth = None\n",
      "Parameter setting that gave the best results on the hold out data: max_features = 8\n",
      "Parameter setting that gave the best results on the hold out data: min_samples_leaf = 5\n",
      "Parameter setting that gave the best results on the hold out data: min_samples_split = 5\n",
      "Parameter setting that gave the best results on the hold out data: criterion = gini\n"
     ]
    }
   ],
   "source": [
    "print(\"mean cross-validated score of the best_estimator: %.3f \" % rf_cv.best_score_)\n",
    "print(\"Parameter setting that gave the best results on the hold out data: n_estimators =\", rf_cv.best_params_.get('classifier__n_estimators'))\n",
    "print(\"Parameter setting that gave the best results on the hold out data: max_depth =\", rf_cv.best_params_.get('classifier__max_depth'))\n",
    "print(\"Parameter setting that gave the best results on the hold out data: max_features =\", rf_cv.best_params_.get('classifier__max_features'))\n",
    "print(\"Parameter setting that gave the best results on the hold out data: min_samples_leaf =\", rf_cv.best_params_.get('classifier__min_samples_leaf'))\n",
    "print(\"Parameter setting that gave the best results on the hold out data: min_samples_split =\", rf_cv.best_params_.get('classifier__min_samples_split'))\n",
    "print(\"Parameter setting that gave the best results on the hold out data: criterion =\", rf_cv.best_params_.get('classifier__criterion'))"
   ]
  },
  {
   "cell_type": "code",
   "execution_count": null,
   "metadata": {},
   "outputs": [],
   "source": []
  },
  {
   "cell_type": "code",
   "execution_count": null,
   "metadata": {},
   "outputs": [],
   "source": []
  },
  {
   "cell_type": "markdown",
   "metadata": {},
   "source": [
    "#### Model 6: Naive Bayes"
   ]
  },
  {
   "cell_type": "code",
   "execution_count": 37,
   "metadata": {},
   "outputs": [
    {
     "name": "stdout",
     "output_type": "stream",
     "text": [
      "It takes 0.119  seconds for nb fitting\n",
      "Accuracy with nb on the test set is: 0.806\n",
      "PREDICTION   pay  default  Total\n",
      "TRUE                            \n",
      "pay         6798      211   7009\n",
      "default     1537      454   1991\n",
      "Total       8335      665   9000\n",
      "              precision    recall  f1-score   support\n",
      "\n",
      "           0       0.82      0.97      0.89      7009\n",
      "           1       0.68      0.23      0.34      1991\n",
      "\n",
      "    accuracy                           0.81      9000\n",
      "   macro avg       0.75      0.60      0.61      9000\n",
      "weighted avg       0.79      0.81      0.77      9000\n",
      "\n"
     ]
    },
    {
     "data": {
      "image/png": "[encoded data removed]",
      "text/plain": [
       "<Figure size 432x288 with 1 Axes>"
      ]
     },
     "metadata": {
      "needs_background": "light"
     },
     "output_type": "display_data"
    }
   ],
   "source": [
    "from sklearn.naive_bayes import GaussianNB\n",
    "\n",
    "#3\n",
    "nb = Pipeline(steps=[('preprocessor', preprocessor),\n",
    "                     ('classifier', GaussianNB())])\n",
    "\n",
    "#6\n",
    "t0 = time.time()\n",
    "nb.fit(X_train, y_train)\n",
    "ttt = time.time() - t0 # ttt stands for \"time to train\"\n",
    "print(\"It takes %.3f\" % ttt, \" seconds for nb fitting\")\n",
    "metrics.loc['Time to Train', 'NB'] = ttt\n",
    "\n",
    "#7\n",
    "y_pred = nb.predict(X_test)\n",
    "\n",
    "#8\n",
    "print(\"Accuracy with nb on the test set is: %.3f\" % nb.score(X_test, y_test))\n",
    "\n",
    "metrics.loc['accuracy', 'NB'] = accuracy_score(y_pred=y_pred, y_true=y_test)\n",
    "metrics.loc['precision', 'NB'] = precision_score(y_pred=y_pred, y_true=y_test)\n",
    "metrics.loc['recall', 'NB'] = recall_score(y_pred=y_pred, y_true=y_test)\n",
    "\n",
    "y_pred_prob = nb.predict_proba(X_test)[:,1]\n",
    "metrics.loc['AUC', 'NB'] = roc_auc_score(y_test, y_pred_prob)\n",
    "\n",
    "print(Conf_Matrix(confusion_matrix(y_test, y_pred)))\n",
    "print(classification_report(y_test, y_pred))\n",
    "\n",
    "\n",
    "# ROC Curve\n",
    "fpr, tpr, thresholds  = roc_curve(y_test, y_pred_prob)\n",
    "plt.plot([0,1], [0,1], 'k--')\n",
    "plt.plot(fpr, tpr, label='Naive Bayes')\n",
    "plt.xlabel('False Positive Rate')\n",
    "plt.ylabel('True Positive Rate')\n",
    "plt.title('NB ROC Curve')\n",
    "plt.show()"
   ]
  },
  {
   "cell_type": "code",
   "execution_count": null,
   "metadata": {},
   "outputs": [],
   "source": []
  },
  {
   "cell_type": "code",
   "execution_count": null,
   "metadata": {},
   "outputs": [],
   "source": []
  },
  {
   "cell_type": "markdown",
   "metadata": {},
   "source": [
    "Comparing Models"
   ]
  },
  {
   "cell_type": "code",
   "execution_count": 38,
   "metadata": {},
   "outputs": [],
   "source": [
    "from pandas.plotting import table"
   ]
  },
  {
   "cell_type": "code",
   "execution_count": 39,
   "metadata": {},
   "outputs": [
    {
     "data": {
      "text/html": [
       "<div>\n",
       "<style scoped>\n",
       "    .dataframe tbody tr th:only-of-type {\n",
       "        vertical-align: middle;\n",
       "    }\n",
       "\n",
       "    .dataframe tbody tr th {\n",
       "        vertical-align: top;\n",
       "    }\n",
       "\n",
       "    .dataframe thead th {\n",
       "        text-align: right;\n",
       "    }\n",
       "</style>\n",
       "<table border=\"1\" class=\"dataframe\">\n",
       "  <thead>\n",
       "    <tr style=\"text-align: right;\">\n",
       "      <th></th>\n",
       "      <th>Dummy Model</th>\n",
       "      <th>LR</th>\n",
       "      <th>KNN</th>\n",
       "      <th>SVM</th>\n",
       "      <th>DT</th>\n",
       "      <th>RF</th>\n",
       "      <th>NB</th>\n",
       "    </tr>\n",
       "  </thead>\n",
       "  <tbody>\n",
       "    <tr>\n",
       "      <td>accuracy</td>\n",
       "      <td>0.779</td>\n",
       "      <td>0.824</td>\n",
       "      <td>0.821</td>\n",
       "      <td>0.826</td>\n",
       "      <td>0.817</td>\n",
       "      <td>0.825</td>\n",
       "      <td>0.806</td>\n",
       "    </tr>\n",
       "    <tr>\n",
       "      <td>precision</td>\n",
       "      <td>0.000</td>\n",
       "      <td>0.694</td>\n",
       "      <td>0.688</td>\n",
       "      <td>0.704</td>\n",
       "      <td>0.667</td>\n",
       "      <td>0.694</td>\n",
       "      <td>0.683</td>\n",
       "    </tr>\n",
       "    <tr>\n",
       "      <td>recall</td>\n",
       "      <td>0.000</td>\n",
       "      <td>0.368</td>\n",
       "      <td>0.349</td>\n",
       "      <td>0.367</td>\n",
       "      <td>0.348</td>\n",
       "      <td>0.373</td>\n",
       "      <td>0.228</td>\n",
       "    </tr>\n",
       "    <tr>\n",
       "      <td>AUC</td>\n",
       "      <td>0.500</td>\n",
       "      <td>0.771</td>\n",
       "      <td>0.754</td>\n",
       "      <td>NaN</td>\n",
       "      <td>0.753</td>\n",
       "      <td>0.791</td>\n",
       "      <td>0.765</td>\n",
       "    </tr>\n",
       "    <tr>\n",
       "      <td>Time to Train</td>\n",
       "      <td>0.116</td>\n",
       "      <td>122.608</td>\n",
       "      <td>174.053</td>\n",
       "      <td>968.909</td>\n",
       "      <td>14.403</td>\n",
       "      <td>189.350</td>\n",
       "      <td>0.119</td>\n",
       "    </tr>\n",
       "  </tbody>\n",
       "</table>\n",
       "</div>"
      ],
      "text/plain": [
       "               Dummy Model       LR      KNN      SVM      DT       RF     NB\n",
       "accuracy             0.779    0.824    0.821    0.826   0.817    0.825  0.806\n",
       "precision            0.000    0.694    0.688    0.704   0.667    0.694  0.683\n",
       "recall               0.000    0.368    0.349    0.367   0.348    0.373  0.228\n",
       "AUC                  0.500    0.771    0.754      NaN   0.753    0.791  0.765\n",
       "Time to Train        0.116  122.608  174.053  968.909  14.403  189.350  0.119"
      ]
     },
     "execution_count": 39,
     "metadata": {},
     "output_type": "execute_result"
    }
   ],
   "source": [
    "metrics.astype(float).round(3)"
   ]
  },
  {
   "cell_type": "code",
   "execution_count": 40,
   "metadata": {},
   "outputs": [],
   "source": [
    "actual_metrics = metrics.astype(float).round(3).loc[['accuracy', 'precision', 'recall', 'AUC']]*100"
   ]
  },
  {
   "cell_type": "code",
   "execution_count": 41,
   "metadata": {},
   "outputs": [],
   "source": [
    "times = metrics.astype(float).round(3).loc[['Time to Train']]"
   ]
  },
  {
   "cell_type": "markdown",
   "metadata": {},
   "source": [
    "All the models had a similar Accuracy and allof the are better than the dummy model. However the SVM es the best"
   ]
  },
  {
   "cell_type": "code",
   "execution_count": 42,
   "metadata": {
    "scrolled": true
   },
   "outputs": [
    {
     "data": {
      "image/png": "[encoded data removed]",
      "text/plain": [
       "<Figure size 1152x720 with 1 Axes>"
      ]
     },
     "metadata": {
      "needs_background": "light"
     },
     "output_type": "display_data"
    }
   ],
   "source": [
    "fig, ax = plt.subplots(figsize=(16,10))\n",
    "actual_metrics.plot(kind='barh', ax=ax)\n",
    "ax.set_xlabel('Percentage')\n",
    "ax.set_title('Comparing the 6 Models')\n",
    "ax.grid();\n",
    "fig.savefig('comparisons')"
   ]
  },
  {
   "cell_type": "code",
   "execution_count": null,
   "metadata": {},
   "outputs": [],
   "source": []
  },
  {
   "cell_type": "code",
   "execution_count": 43,
   "metadata": {},
   "outputs": [],
   "source": [
    "precision_lr, recall_lr, thresholds_lr = precision_recall_curve(y_true=y_test, probas_pred=lr_cv.predict_proba(X_test)[:,1])\n",
    "precision_knn, recall_knn, thresholds_knn = precision_recall_curve(y_true=y_test, probas_pred=knn_cv.predict_proba(X_test)[:,1])\n",
    "#precision_svm, recall_svm, thresholds_svm = precision_recall_curve(y_true=y_test, probas_pred=svm.predict_proba(X_test)[:,1])\n",
    "precision_dt, recall_dt, thresholds_dt = precision_recall_curve(y_true=y_test, probas_pred=dt_cv.predict_proba(X_test)[:,1])\n",
    "precision_rf, recall_rf, thresholds_rf = precision_recall_curve(y_true=y_test, probas_pred=rf_cv.predict_proba(X_test)[:,1])\n",
    "precision_nb, recall_nb, thresholds_nb = precision_recall_curve(y_true=y_test, probas_pred=nb.predict_proba(X_test)[:,1])\n"
   ]
  },
  {
   "cell_type": "code",
   "execution_count": 44,
   "metadata": {},
   "outputs": [
    {
     "data": {
      "image/png": "[encoded data removed]",
      "text/plain": [
       "<Figure size 1152x720 with 1 Axes>"
      ]
     },
     "metadata": {
      "needs_background": "light"
     },
     "output_type": "display_data"
    }
   ],
   "source": [
    "fig, ax = plt.subplots(figsize=(16,10))\n",
    "ax.plot(precision_lr, recall_lr, label='Logistic Regression')\n",
    "ax.plot(precision_knn, recall_knn, label='KNN')\n",
    "ax.plot(precision_dt, recall_dt, label='Decision Tree')\n",
    "ax.plot(precision_rf, recall_rf, label='Random Forest')\n",
    "ax.plot(precision_nb, recall_nb, label='Naive Bayes')\n",
    "ax.set_xlabel('Precision')\n",
    "ax.set_ylabel('Recall')\n",
    "ax.set_title('Precision-Recall Curve')\n",
    "ax.hlines(y=0.5, xmin=0, xmax=1, color='red')\n",
    "ax.legend()\n",
    "ax.grid();\n",
    "fig.savefig('pr_curves')"
   ]
  },
  {
   "cell_type": "markdown",
   "metadata": {},
   "source": [
    "Confusion Matrox fro RF"
   ]
  },
  {
   "cell_type": "code",
   "execution_count": 48,
   "metadata": {},
   "outputs": [
    {
     "data": {
      "image/png": "[encoded data removed]",
      "text/plain": [
       "<Figure size 576x360 with 1 Axes>"
      ]
     },
     "metadata": {
      "needs_background": "light"
     },
     "output_type": "display_data"
    }
   ],
   "source": [
    "fig, ax = plt.subplots(figsize=(8,5))\n",
    "ax.plot(thresholds_rf, precision_rf[1:], label='Precision_RF')\n",
    "ax.plot(thresholds_rf, recall_rf[1:], label='Recall_RF')\n",
    "#ax.plot(thresholds_lr, precision_lr[1:], label='Precision_LR')\n",
    "#ax.plot(thresholds_lr, recall_lr[1:], label='Recall_LR')\n",
    "ax.set_xlabel('Classification Threshold')\n",
    "ax.set_ylabel('Precision, Recall')\n",
    "ax.set_title('Random Forest Classifier: Precision-Recall')\n",
    "ax.hlines(y=0.6, xmin=0, xmax=1, color='red')\n",
    "ax.legend()\n",
    "ax.grid();\n",
    "fig.savefig('random_forest_pr_curve')"
   ]
  },
  {
   "cell_type": "code",
   "execution_count": null,
   "metadata": {},
   "outputs": [],
   "source": []
  },
  {
   "cell_type": "markdown",
   "metadata": {},
   "source": []
  },
  {
   "cell_type": "code",
   "execution_count": 45,
   "metadata": {},
   "outputs": [
    {
     "name": "stdout",
     "output_type": "stream",
     "text": [
      "Recall:  62.88297338021095\n",
      "Precision:  49.46661398656658\n",
      "Accuracy:  77.57777777777778\n"
     ]
    },
    {
     "data": {
      "text/html": [
       "<div>\n",
       "<style scoped>\n",
       "    .dataframe tbody tr th:only-of-type {\n",
       "        vertical-align: middle;\n",
       "    }\n",
       "\n",
       "    .dataframe tbody tr th {\n",
       "        vertical-align: top;\n",
       "    }\n",
       "\n",
       "    .dataframe thead th {\n",
       "        text-align: right;\n",
       "    }\n",
       "</style>\n",
       "<table border=\"1\" class=\"dataframe\">\n",
       "  <thead>\n",
       "    <tr style=\"text-align: right;\">\n",
       "      <th>PREDICTION</th>\n",
       "      <th>pay</th>\n",
       "      <th>default</th>\n",
       "      <th>Total</th>\n",
       "    </tr>\n",
       "    <tr>\n",
       "      <th>TRUE</th>\n",
       "      <th></th>\n",
       "      <th></th>\n",
       "      <th></th>\n",
       "    </tr>\n",
       "  </thead>\n",
       "  <tbody>\n",
       "    <tr>\n",
       "      <td>pay</td>\n",
       "      <td>5730</td>\n",
       "      <td>1279</td>\n",
       "      <td>7009</td>\n",
       "    </tr>\n",
       "    <tr>\n",
       "      <td>default</td>\n",
       "      <td>739</td>\n",
       "      <td>1252</td>\n",
       "      <td>1991</td>\n",
       "    </tr>\n",
       "    <tr>\n",
       "      <td>Total</td>\n",
       "      <td>6469</td>\n",
       "      <td>2531</td>\n",
       "      <td>9000</td>\n",
       "    </tr>\n",
       "  </tbody>\n",
       "</table>\n",
       "</div>"
      ],
      "text/plain": [
       "PREDICTION   pay  default  Total\n",
       "TRUE                            \n",
       "pay         5730     1279   7009\n",
       "default      739     1252   1991\n",
       "Total       6469     2531   9000"
      ]
     },
     "execution_count": 45,
     "metadata": {},
     "output_type": "execute_result"
    }
   ],
   "source": [
    "y_pred_proba = rf_cv.predict_proba(X_test)[:,1]\n",
    "y_pred_test = (y_pred_proba >= 0.25).astype(int)\n",
    "# Confusion Matrix\n",
    "CM = confusion_matrix(y_pred=y_pred_test, y_true=y_test)\n",
    "print(\"Recall: \", 100*recall_score(y_pred=y_pred_test, y_true=y_test))\n",
    "print(\"Precision: \", 100*precision_score(y_pred=y_pred_test, y_true=y_test))\n",
    "print(\"Accuracy: \", 100*accuracy_score(y_pred=y_pred_test, y_true=y_test))\n",
    "\n",
    "Conf_Matrix(CM)"
   ]
  },
  {
   "cell_type": "code",
   "execution_count": null,
   "metadata": {},
   "outputs": [],
   "source": []
  },
  {
   "cell_type": "code",
   "execution_count": null,
   "metadata": {},
   "outputs": [],
   "source": []
  }
 ],
 "metadata": {
  "kernelspec": {
   "display_name": "Python 3",
   "language": "python",
   "name": "python3"
  },
  "language_info": {
   "codemirror_mode": {
    "name": "ipython",
    "version": 3
   },
   "file_extension": ".py",
   "mimetype": "text/x-python",
   "name": "python",
   "nbconvert_exporter": "python",
   "pygments_lexer": "ipython3",
   "version": "3.7.4"
  }
 },
 "nbformat": 4,
 "nbformat_minor": 2
}
